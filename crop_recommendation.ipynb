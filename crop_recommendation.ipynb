{
  "nbformat": 4,
  "nbformat_minor": 0,
  "metadata": {
    "colab": {
      "provenance": []
    },
    "kernelspec": {
      "name": "python3",
      "display_name": "Python 3"
    },
    "language_info": {
      "name": "python"
    }
  },
  "cells": [
    {
      "cell_type": "code",
      "execution_count": 130,
      "metadata": {
        "id": "XFSgJKUlMKMQ"
      },
      "outputs": [],
      "source": [
        "import numpy as np\n",
        "import pandas as pd\n",
        "from sklearn.model_selection import train_test_split\n",
        "from sklearn.linear_model import LogisticRegression\n",
        "from sklearn.metrics import accuracy_score\n",
        "import numpy as np\n",
        "import pandas as pd\n",
        "import sklearn as sk\n",
        "from sklearn.model_selection import train_test_split\n",
        "from sklearn.preprocessing import StandardScaler\n",
        "from sklearn import svm\n",
        "from sklearn.metrics import accuracy_score\n",
        "from sklearn.feature_extraction.text import CountVectorizer\n",
        "from sklearn.feature_extraction.text import TfidfVectorizer"
      ]
    },
    {
      "cell_type": "code",
      "source": [
        "data=pd.read_csv('Crop_recommendation.csv',header=None)\n",
        "data=data.drop(0)"
      ],
      "metadata": {
        "id": "REeXeJoNPAbh"
      },
      "execution_count": 131,
      "outputs": []
    },
    {
      "cell_type": "code",
      "source": [
        "data\n",
        "type(data[5][4])\n"
      ],
      "metadata": {
        "colab": {
          "base_uri": "https://localhost:8080/"
        },
        "id": "a_6hMbiwPHk4",
        "outputId": "288dbe01-531b-478f-d49e-d28a5860a8a5"
      },
      "execution_count": 132,
      "outputs": [
        {
          "output_type": "execute_result",
          "data": {
            "text/plain": [
              "str"
            ]
          },
          "metadata": {},
          "execution_count": 132
        }
      ]
    },
    {
      "cell_type": "code",
      "source": [
        "vectorizer = TfidfVectorizer()\n",
        "vectorizer.fit(data[7])\n",
        "print(vectorizer.vocabulary_)\n",
        "vector = vectorizer.transform(data[7])\n",
        "print(vector.shape)\n",
        "print(type(vector))\n",
        "print(vector.toarray())\n",
        "for i in range(1,2201):\n",
        "  data[7][i]=int(vectorizer.vocabulary_[data[7][i]])\n",
        "\n"
      ],
      "metadata": {
        "colab": {
          "base_uri": "https://localhost:8080/"
        },
        "id": "ZvUhzQKrPI2M",
        "outputId": "14f996ca-630a-4f6e-a0d2-e884c4f06fa7"
      },
      "execution_count": 133,
      "outputs": [
        {
          "output_type": "stream",
          "name": "stdout",
          "text": [
            "{'rice': 20, 'maize': 11, 'chickpea': 3, 'kidneybeans': 9, 'pigeonpeas': 18, 'mothbeans': 13, 'mungbean': 14, 'blackgram': 2, 'lentil': 10, 'pomegranate': 19, 'banana': 1, 'mango': 12, 'grapes': 7, 'watermelon': 21, 'muskmelon': 15, 'apple': 0, 'orange': 16, 'papaya': 17, 'coconut': 4, 'cotton': 6, 'jute': 8, 'coffee': 5}\n",
            "(2200, 22)\n",
            "<class 'scipy.sparse._csr.csr_matrix'>\n",
            "[[0. 0. 0. ... 0. 1. 0.]\n",
            " [0. 0. 0. ... 0. 1. 0.]\n",
            " [0. 0. 0. ... 0. 1. 0.]\n",
            " ...\n",
            " [0. 0. 0. ... 0. 0. 0.]\n",
            " [0. 0. 0. ... 0. 0. 0.]\n",
            " [0. 0. 0. ... 0. 0. 0.]]\n"
          ]
        }
      ]
    },
    {
      "cell_type": "code",
      "source": [
        "for i in range(8):\n",
        "  data[i]=pd.to_numeric(data[i])"
      ],
      "metadata": {
        "id": "b9RaNZi4PrWz"
      },
      "execution_count": 134,
      "outputs": []
    },
    {
      "cell_type": "code",
      "source": [
        "X=data.drop(columns=[7],axis=1);\n",
        "Y=data[7]\n",
        "X_train,X_test,Y_train,Y_test=train_test_split(X,Y,test_size=0.2,stratify=Y,random_state=1)"
      ],
      "metadata": {
        "id": "zVlP9D9YQyaw"
      },
      "execution_count": 135,
      "outputs": []
    },
    {
      "cell_type": "code",
      "source": [
        "scaler=StandardScaler()\n",
        "scaler.fit(X_train)\n",
        "X_train=scaler.transform(X_train)\n",
        "X_test=scaler.transform(X_test)\n",
        "Y.describe()"
      ],
      "metadata": {
        "colab": {
          "base_uri": "https://localhost:8080/"
        },
        "id": "txBYN5iVRQQc",
        "outputId": "8052a61a-e8d5-444a-9d07-30e3a9bed4b8"
      },
      "execution_count": 136,
      "outputs": [
        {
          "output_type": "execute_result",
          "data": {
            "text/plain": [
              "count    2200.000000\n",
              "mean       10.500000\n",
              "std         6.345731\n",
              "min         0.000000\n",
              "25%         5.000000\n",
              "50%        10.500000\n",
              "75%        16.000000\n",
              "max        21.000000\n",
              "Name: 7, dtype: float64"
            ]
          },
          "metadata": {},
          "execution_count": 136
        }
      ]
    },
    {
      "cell_type": "code",
      "source": [
        "model=svm.SVC(kernel='linear')\n",
        "model.fit(X_train,Y_train)\n",
        "X_train_prediction=model.predict(X_train)\n",
        "training_data_acuracy=accuracy_score(X_train_prediction,Y_train)\n",
        "print(training_data_acuracy)"
      ],
      "metadata": {
        "colab": {
          "base_uri": "https://localhost:8080/"
        },
        "id": "DrNnwK3dRdOP",
        "outputId": "07d6a6f9-be48-4c13-9137-ffa297481bbc"
      },
      "execution_count": 145,
      "outputs": [
        {
          "output_type": "stream",
          "name": "stdout",
          "text": [
            "0.9897727272727272\n"
          ]
        }
      ]
    },
    {
      "cell_type": "code",
      "source": [
        "X_test_prediction=model.predict(X_test)\n",
        "test_data_acuracy=accuracy_score(X_test_prediction,Y_test)\n",
        "print(test_data_acuracy)"
      ],
      "metadata": {
        "colab": {
          "base_uri": "https://localhost:8080/"
        },
        "id": "4MFbJmUUERHv",
        "outputId": "7c5c4636-e32a-4dd3-ffb7-2e375a34fd8e"
      },
      "execution_count": 146,
      "outputs": [
        {
          "output_type": "stream",
          "name": "stdout",
          "text": [
            "0.9931818181818182\n"
          ]
        }
      ]
    },
    {
      "cell_type": "code",
      "source": [
        "input_data=(.01587,0.03003,0.006193,25.38,17.33,184.6,2019)\n",
        "input_data_as_numpy=np.asarray(input_data)\n",
        "input_data_reshaped=input_data_as_numpy.reshape(1,-1)\n",
        "prediction=model.predict(input_data_reshaped)\n",
        "print(prediction)"
      ],
      "metadata": {
        "colab": {
          "base_uri": "https://localhost:8080/"
        },
        "id": "aTbnF-X-Rgg0",
        "outputId": "f79fc474-420d-4585-c49b-cb48a1bc0af5"
      },
      "execution_count": 142,
      "outputs": [
        {
          "output_type": "stream",
          "name": "stdout",
          "text": [
            "[20]\n"
          ]
        }
      ]
    },
    {
      "cell_type": "code",
      "source": [],
      "metadata": {
        "id": "JFwT8476bCOC"
      },
      "execution_count": null,
      "outputs": []
    }
  ]
}