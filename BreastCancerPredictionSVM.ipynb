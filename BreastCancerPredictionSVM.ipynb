{
  "nbformat": 4,
  "nbformat_minor": 0,
  "metadata": {
    "colab": {
      "provenance": [],
      "authorship_tag": "ABX9TyNZLq4lVL2JI+VC3uhgwScr",
      "include_colab_link": true
    },
    "kernelspec": {
      "name": "python3",
      "display_name": "Python 3"
    },
    "language_info": {
      "name": "python"
    }
  },
  "cells": [
    {
      "cell_type": "markdown",
      "metadata": {
        "id": "view-in-github",
        "colab_type": "text"
      },
      "source": [
        "<a href=\"https://colab.research.google.com/github/SubhamPanda2003/Machine_learning/blob/master/BreastCancerPredictionSVM.ipynb\" target=\"_parent\"><img src=\"https://colab.research.google.com/assets/colab-badge.svg\" alt=\"Open In Colab\"/></a>"
      ]
    },
    {
      "cell_type": "markdown",
      "source": [
        "#Breast Cancer prediction using Logistic regression\n",
        "Accuraccy 95%"
      ],
      "metadata": {
        "id": "f_6BYtU7E4Ew"
      }
    },
    {
      "cell_type": "code",
      "execution_count": 17,
      "metadata": {
        "id": "cSPsTD6v6OoS"
      },
      "outputs": [],
      "source": [
        "import numpy as np\n",
        "import pandas as pd\n",
        "from sklearn.model_selection import train_test_split\n",
        "from sklearn.linear_model import LogisticRegression\n",
        "from sklearn.metrics import accuracy_score\n",
        "import numpy as np\n",
        "import pandas as pd\n",
        "from sklearn.model_selection import train_test_split\n",
        "from sklearn.preprocessing import StandardScaler\n",
        "from sklearn import svm\n",
        "from sklearn.metrics import accuracy_score"
      ]
    },
    {
      "cell_type": "code",
      "source": [
        "data=pd.read_csv('breast-cancer.csv',header=None)"
      ],
      "metadata": {
        "id": "dvjawoe9_zNk"
      },
      "execution_count": 18,
      "outputs": []
    },
    {
      "cell_type": "code",
      "source": [
        "data.head()"
      ],
      "metadata": {
        "colab": {
          "base_uri": "https://localhost:8080/",
          "height": 317
        },
        "id": "Hv5HJF_o_3ch",
        "outputId": "55db4077-330f-4338-f5cf-1a58ffc1a689"
      },
      "execution_count": 19,
      "outputs": [
        {
          "output_type": "execute_result",
          "data": {
            "text/plain": [
              "         0          1            2             3               4          5   \\\n",
              "0        id  diagnosis  radius_mean  texture_mean  perimeter_mean  area_mean   \n",
              "1    842302          M        17.99         10.38           122.8       1001   \n",
              "2    842517          M        20.57         17.77           132.9       1326   \n",
              "3  84300903          M        19.69         21.25             130       1203   \n",
              "4  84348301          M        11.42         20.38           77.58      386.1   \n",
              "\n",
              "                6                 7               8                    9   \\\n",
              "0  smoothness_mean  compactness_mean  concavity_mean  concave points_mean   \n",
              "1           0.1184            0.2776          0.3001               0.1471   \n",
              "2          0.08474           0.07864          0.0869              0.07017   \n",
              "3           0.1096            0.1599          0.1974               0.1279   \n",
              "4           0.1425            0.2839          0.2414               0.1052   \n",
              "\n",
              "   ...            22             23               24          25  \\\n",
              "0  ...  radius_worst  texture_worst  perimeter_worst  area_worst   \n",
              "1  ...         25.38          17.33            184.6        2019   \n",
              "2  ...         24.99          23.41            158.8        1956   \n",
              "3  ...         23.57          25.53            152.5        1709   \n",
              "4  ...         14.91           26.5            98.87       567.7   \n",
              "\n",
              "                 26                 27               28                    29  \\\n",
              "0  smoothness_worst  compactness_worst  concavity_worst  concave points_worst   \n",
              "1            0.1622             0.6656           0.7119                0.2654   \n",
              "2            0.1238             0.1866           0.2416                 0.186   \n",
              "3            0.1444             0.4245           0.4504                 0.243   \n",
              "4            0.2098             0.8663           0.6869                0.2575   \n",
              "\n",
              "               30                       31  \n",
              "0  symmetry_worst  fractal_dimension_worst  \n",
              "1          0.4601                   0.1189  \n",
              "2           0.275                  0.08902  \n",
              "3          0.3613                  0.08758  \n",
              "4          0.6638                    0.173  \n",
              "\n",
              "[5 rows x 32 columns]"
            ],
            "text/html": [
              "\n",
              "  <div id=\"df-bddf8e00-d78a-4c35-8059-369e67bfbffd\">\n",
              "    <div class=\"colab-df-container\">\n",
              "      <div>\n",
              "<style scoped>\n",
              "    .dataframe tbody tr th:only-of-type {\n",
              "        vertical-align: middle;\n",
              "    }\n",
              "\n",
              "    .dataframe tbody tr th {\n",
              "        vertical-align: top;\n",
              "    }\n",
              "\n",
              "    .dataframe thead th {\n",
              "        text-align: right;\n",
              "    }\n",
              "</style>\n",
              "<table border=\"1\" class=\"dataframe\">\n",
              "  <thead>\n",
              "    <tr style=\"text-align: right;\">\n",
              "      <th></th>\n",
              "      <th>0</th>\n",
              "      <th>1</th>\n",
              "      <th>2</th>\n",
              "      <th>3</th>\n",
              "      <th>4</th>\n",
              "      <th>5</th>\n",
              "      <th>6</th>\n",
              "      <th>7</th>\n",
              "      <th>8</th>\n",
              "      <th>9</th>\n",
              "      <th>...</th>\n",
              "      <th>22</th>\n",
              "      <th>23</th>\n",
              "      <th>24</th>\n",
              "      <th>25</th>\n",
              "      <th>26</th>\n",
              "      <th>27</th>\n",
              "      <th>28</th>\n",
              "      <th>29</th>\n",
              "      <th>30</th>\n",
              "      <th>31</th>\n",
              "    </tr>\n",
              "  </thead>\n",
              "  <tbody>\n",
              "    <tr>\n",
              "      <th>0</th>\n",
              "      <td>id</td>\n",
              "      <td>diagnosis</td>\n",
              "      <td>radius_mean</td>\n",
              "      <td>texture_mean</td>\n",
              "      <td>perimeter_mean</td>\n",
              "      <td>area_mean</td>\n",
              "      <td>smoothness_mean</td>\n",
              "      <td>compactness_mean</td>\n",
              "      <td>concavity_mean</td>\n",
              "      <td>concave points_mean</td>\n",
              "      <td>...</td>\n",
              "      <td>radius_worst</td>\n",
              "      <td>texture_worst</td>\n",
              "      <td>perimeter_worst</td>\n",
              "      <td>area_worst</td>\n",
              "      <td>smoothness_worst</td>\n",
              "      <td>compactness_worst</td>\n",
              "      <td>concavity_worst</td>\n",
              "      <td>concave points_worst</td>\n",
              "      <td>symmetry_worst</td>\n",
              "      <td>fractal_dimension_worst</td>\n",
              "    </tr>\n",
              "    <tr>\n",
              "      <th>1</th>\n",
              "      <td>842302</td>\n",
              "      <td>M</td>\n",
              "      <td>17.99</td>\n",
              "      <td>10.38</td>\n",
              "      <td>122.8</td>\n",
              "      <td>1001</td>\n",
              "      <td>0.1184</td>\n",
              "      <td>0.2776</td>\n",
              "      <td>0.3001</td>\n",
              "      <td>0.1471</td>\n",
              "      <td>...</td>\n",
              "      <td>25.38</td>\n",
              "      <td>17.33</td>\n",
              "      <td>184.6</td>\n",
              "      <td>2019</td>\n",
              "      <td>0.1622</td>\n",
              "      <td>0.6656</td>\n",
              "      <td>0.7119</td>\n",
              "      <td>0.2654</td>\n",
              "      <td>0.4601</td>\n",
              "      <td>0.1189</td>\n",
              "    </tr>\n",
              "    <tr>\n",
              "      <th>2</th>\n",
              "      <td>842517</td>\n",
              "      <td>M</td>\n",
              "      <td>20.57</td>\n",
              "      <td>17.77</td>\n",
              "      <td>132.9</td>\n",
              "      <td>1326</td>\n",
              "      <td>0.08474</td>\n",
              "      <td>0.07864</td>\n",
              "      <td>0.0869</td>\n",
              "      <td>0.07017</td>\n",
              "      <td>...</td>\n",
              "      <td>24.99</td>\n",
              "      <td>23.41</td>\n",
              "      <td>158.8</td>\n",
              "      <td>1956</td>\n",
              "      <td>0.1238</td>\n",
              "      <td>0.1866</td>\n",
              "      <td>0.2416</td>\n",
              "      <td>0.186</td>\n",
              "      <td>0.275</td>\n",
              "      <td>0.08902</td>\n",
              "    </tr>\n",
              "    <tr>\n",
              "      <th>3</th>\n",
              "      <td>84300903</td>\n",
              "      <td>M</td>\n",
              "      <td>19.69</td>\n",
              "      <td>21.25</td>\n",
              "      <td>130</td>\n",
              "      <td>1203</td>\n",
              "      <td>0.1096</td>\n",
              "      <td>0.1599</td>\n",
              "      <td>0.1974</td>\n",
              "      <td>0.1279</td>\n",
              "      <td>...</td>\n",
              "      <td>23.57</td>\n",
              "      <td>25.53</td>\n",
              "      <td>152.5</td>\n",
              "      <td>1709</td>\n",
              "      <td>0.1444</td>\n",
              "      <td>0.4245</td>\n",
              "      <td>0.4504</td>\n",
              "      <td>0.243</td>\n",
              "      <td>0.3613</td>\n",
              "      <td>0.08758</td>\n",
              "    </tr>\n",
              "    <tr>\n",
              "      <th>4</th>\n",
              "      <td>84348301</td>\n",
              "      <td>M</td>\n",
              "      <td>11.42</td>\n",
              "      <td>20.38</td>\n",
              "      <td>77.58</td>\n",
              "      <td>386.1</td>\n",
              "      <td>0.1425</td>\n",
              "      <td>0.2839</td>\n",
              "      <td>0.2414</td>\n",
              "      <td>0.1052</td>\n",
              "      <td>...</td>\n",
              "      <td>14.91</td>\n",
              "      <td>26.5</td>\n",
              "      <td>98.87</td>\n",
              "      <td>567.7</td>\n",
              "      <td>0.2098</td>\n",
              "      <td>0.8663</td>\n",
              "      <td>0.6869</td>\n",
              "      <td>0.2575</td>\n",
              "      <td>0.6638</td>\n",
              "      <td>0.173</td>\n",
              "    </tr>\n",
              "  </tbody>\n",
              "</table>\n",
              "<p>5 rows × 32 columns</p>\n",
              "</div>\n",
              "      <button class=\"colab-df-convert\" onclick=\"convertToInteractive('df-bddf8e00-d78a-4c35-8059-369e67bfbffd')\"\n",
              "              title=\"Convert this dataframe to an interactive table.\"\n",
              "              style=\"display:none;\">\n",
              "        \n",
              "  <svg xmlns=\"http://www.w3.org/2000/svg\" height=\"24px\"viewBox=\"0 0 24 24\"\n",
              "       width=\"24px\">\n",
              "    <path d=\"M0 0h24v24H0V0z\" fill=\"none\"/>\n",
              "    <path d=\"M18.56 5.44l.94 2.06.94-2.06 2.06-.94-2.06-.94-.94-2.06-.94 2.06-2.06.94zm-11 1L8.5 8.5l.94-2.06 2.06-.94-2.06-.94L8.5 2.5l-.94 2.06-2.06.94zm10 10l.94 2.06.94-2.06 2.06-.94-2.06-.94-.94-2.06-.94 2.06-2.06.94z\"/><path d=\"M17.41 7.96l-1.37-1.37c-.4-.4-.92-.59-1.43-.59-.52 0-1.04.2-1.43.59L10.3 9.45l-7.72 7.72c-.78.78-.78 2.05 0 2.83L4 21.41c.39.39.9.59 1.41.59.51 0 1.02-.2 1.41-.59l7.78-7.78 2.81-2.81c.8-.78.8-2.07 0-2.86zM5.41 20L4 18.59l7.72-7.72 1.47 1.35L5.41 20z\"/>\n",
              "  </svg>\n",
              "      </button>\n",
              "      \n",
              "  <style>\n",
              "    .colab-df-container {\n",
              "      display:flex;\n",
              "      flex-wrap:wrap;\n",
              "      gap: 12px;\n",
              "    }\n",
              "\n",
              "    .colab-df-convert {\n",
              "      background-color: #E8F0FE;\n",
              "      border: none;\n",
              "      border-radius: 50%;\n",
              "      cursor: pointer;\n",
              "      display: none;\n",
              "      fill: #1967D2;\n",
              "      height: 32px;\n",
              "      padding: 0 0 0 0;\n",
              "      width: 32px;\n",
              "    }\n",
              "\n",
              "    .colab-df-convert:hover {\n",
              "      background-color: #E2EBFA;\n",
              "      box-shadow: 0px 1px 2px rgba(60, 64, 67, 0.3), 0px 1px 3px 1px rgba(60, 64, 67, 0.15);\n",
              "      fill: #174EA6;\n",
              "    }\n",
              "\n",
              "    [theme=dark] .colab-df-convert {\n",
              "      background-color: #3B4455;\n",
              "      fill: #D2E3FC;\n",
              "    }\n",
              "\n",
              "    [theme=dark] .colab-df-convert:hover {\n",
              "      background-color: #434B5C;\n",
              "      box-shadow: 0px 1px 3px 1px rgba(0, 0, 0, 0.15);\n",
              "      filter: drop-shadow(0px 1px 2px rgba(0, 0, 0, 0.3));\n",
              "      fill: #FFFFFF;\n",
              "    }\n",
              "  </style>\n",
              "\n",
              "      <script>\n",
              "        const buttonEl =\n",
              "          document.querySelector('#df-bddf8e00-d78a-4c35-8059-369e67bfbffd button.colab-df-convert');\n",
              "        buttonEl.style.display =\n",
              "          google.colab.kernel.accessAllowed ? 'block' : 'none';\n",
              "\n",
              "        async function convertToInteractive(key) {\n",
              "          const element = document.querySelector('#df-bddf8e00-d78a-4c35-8059-369e67bfbffd');\n",
              "          const dataTable =\n",
              "            await google.colab.kernel.invokeFunction('convertToInteractive',\n",
              "                                                     [key], {});\n",
              "          if (!dataTable) return;\n",
              "\n",
              "          const docLinkHtml = 'Like what you see? Visit the ' +\n",
              "            '<a target=\"_blank\" href=https://colab.research.google.com/notebooks/data_table.ipynb>data table notebook</a>'\n",
              "            + ' to learn more about interactive tables.';\n",
              "          element.innerHTML = '';\n",
              "          dataTable['output_type'] = 'display_data';\n",
              "          await google.colab.output.renderOutput(dataTable, element);\n",
              "          const docLink = document.createElement('div');\n",
              "          docLink.innerHTML = docLinkHtml;\n",
              "          element.appendChild(docLink);\n",
              "        }\n",
              "      </script>\n",
              "    </div>\n",
              "  </div>\n",
              "  "
            ]
          },
          "metadata": {},
          "execution_count": 19
        }
      ]
    },
    {
      "cell_type": "code",
      "source": [
        "data.shape"
      ],
      "metadata": {
        "colab": {
          "base_uri": "https://localhost:8080/"
        },
        "id": "X8oGAAlp__q5",
        "outputId": "d26822b0-2479-4aca-8ffa-3172941f13f9"
      },
      "execution_count": 20,
      "outputs": [
        {
          "output_type": "execute_result",
          "data": {
            "text/plain": [
              "(570, 32)"
            ]
          },
          "metadata": {},
          "execution_count": 20
        }
      ]
    },
    {
      "cell_type": "code",
      "source": [
        "#separating data on label\n",
        "X=data.drop(columns=1,axis=1)\n",
        "X=X.drop(columns=0,axis=1)\n",
        "X=X.drop(columns=31,axis=1)\n",
        "Y=data[1]\n",
        "Y=Y.drop(0,axis=0)\n",
        "X=X.drop(0,axis=0)\n",
        "print(X)\n",
        "print(\"---------------------------------------\")\n",
        "print(Y)"
      ],
      "metadata": {
        "colab": {
          "base_uri": "https://localhost:8080/"
        },
        "id": "5Hi9bMOvADqI",
        "outputId": "979e40a2-2067-4697-9539-b7f2a32d1f92"
      },
      "execution_count": 21,
      "outputs": [
        {
          "output_type": "stream",
          "name": "stdout",
          "text": [
            "        2      3      4      5        6        7        8        9       10  \\\n",
            "1    17.99  10.38  122.8   1001   0.1184   0.2776   0.3001   0.1471  0.2419   \n",
            "2    20.57  17.77  132.9   1326  0.08474  0.07864   0.0869  0.07017  0.1812   \n",
            "3    19.69  21.25    130   1203   0.1096   0.1599   0.1974   0.1279  0.2069   \n",
            "4    11.42  20.38  77.58  386.1   0.1425   0.2839   0.2414   0.1052  0.2597   \n",
            "5    20.29  14.34  135.1   1297   0.1003   0.1328    0.198   0.1043  0.1809   \n",
            "..     ...    ...    ...    ...      ...      ...      ...      ...     ...   \n",
            "565  21.56  22.39    142   1479    0.111   0.1159   0.2439   0.1389  0.1726   \n",
            "566  20.13  28.25  131.2   1261   0.0978   0.1034    0.144  0.09791  0.1752   \n",
            "567   16.6  28.08  108.3  858.1  0.08455   0.1023  0.09251  0.05302   0.159   \n",
            "568   20.6  29.33  140.1   1265   0.1178    0.277   0.3514    0.152  0.2397   \n",
            "569   7.76  24.54  47.92    181  0.05263  0.04362        0        0  0.1587   \n",
            "\n",
            "          11  ...        21     22     23     24     25       26       27  \\\n",
            "1    0.07871  ...  0.006193  25.38  17.33  184.6   2019   0.1622   0.6656   \n",
            "2    0.05667  ...  0.003532  24.99  23.41  158.8   1956   0.1238   0.1866   \n",
            "3    0.05999  ...  0.004571  23.57  25.53  152.5   1709   0.1444   0.4245   \n",
            "4    0.09744  ...  0.009208  14.91   26.5  98.87  567.7   0.2098   0.8663   \n",
            "5    0.05883  ...  0.005115  22.54  16.67  152.2   1575   0.1374    0.205   \n",
            "..       ...  ...       ...    ...    ...    ...    ...      ...      ...   \n",
            "565  0.05623  ...  0.004239  25.45   26.4  166.1   2027    0.141   0.2113   \n",
            "566  0.05533  ...  0.002498  23.69  38.25    155   1731   0.1166   0.1922   \n",
            "567  0.05648  ...  0.003892  18.98  34.12  126.7   1124   0.1139   0.3094   \n",
            "568  0.07016  ...  0.006185  25.74  39.42  184.6   1821    0.165   0.8681   \n",
            "569  0.05884  ...  0.002783  9.456  30.37  59.16  268.6  0.08996  0.06444   \n",
            "\n",
            "         28      29      30  \n",
            "1    0.7119  0.2654  0.4601  \n",
            "2    0.2416   0.186   0.275  \n",
            "3    0.4504   0.243  0.3613  \n",
            "4    0.6869  0.2575  0.6638  \n",
            "5       0.4  0.1625  0.2364  \n",
            "..      ...     ...     ...  \n",
            "565  0.4107  0.2216   0.206  \n",
            "566  0.3215  0.1628  0.2572  \n",
            "567  0.3403  0.1418  0.2218  \n",
            "568  0.9387   0.265  0.4087  \n",
            "569       0       0  0.2871  \n",
            "\n",
            "[569 rows x 29 columns]\n",
            "---------------------------------------\n",
            "1      M\n",
            "2      M\n",
            "3      M\n",
            "4      M\n",
            "5      M\n",
            "      ..\n",
            "565    M\n",
            "566    M\n",
            "567    M\n",
            "568    M\n",
            "569    B\n",
            "Name: 1, Length: 569, dtype: object\n"
          ]
        }
      ]
    },
    {
      "cell_type": "code",
      "source": [
        "X_train,X_test,Y_train,Y_test=train_test_split(X,Y,test_size=0.2,stratify=Y,random_state=0)"
      ],
      "metadata": {
        "id": "j37tRR2pATJY"
      },
      "execution_count": 22,
      "outputs": []
    },
    {
      "cell_type": "code",
      "source": [
        "scaler=StandardScaler()\n",
        "scaler.fit(X_train)\n",
        "X_train=scaler.transform(X_train)\n",
        "X_test=scaler.transform(X_test)"
      ],
      "metadata": {
        "id": "tb1KZX-PAfmy"
      },
      "execution_count": 23,
      "outputs": []
    },
    {
      "cell_type": "code",
      "source": [
        "print(X.shape,X_train.shape,X_test.shape)"
      ],
      "metadata": {
        "colab": {
          "base_uri": "https://localhost:8080/"
        },
        "id": "LUPdbF8dCuPY",
        "outputId": "d59582fc-505f-4636-bf15-9ceb8ab64860"
      },
      "execution_count": 24,
      "outputs": [
        {
          "output_type": "stream",
          "name": "stdout",
          "text": [
            "(569, 29) (455, 29) (114, 29)\n"
          ]
        }
      ]
    },
    {
      "cell_type": "code",
      "source": [
        "model=svm.SVC(kernel='linear')"
      ],
      "metadata": {
        "id": "q2bYRDPwDwTY"
      },
      "execution_count": 25,
      "outputs": []
    },
    {
      "cell_type": "code",
      "source": [
        "model.fit(X_train,Y_train)"
      ],
      "metadata": {
        "colab": {
          "base_uri": "https://localhost:8080/"
        },
        "id": "fUO2X89bD1l2",
        "outputId": "13e8bd13-1791-4204-af13-0bd496cd42ea"
      },
      "execution_count": 26,
      "outputs": [
        {
          "output_type": "execute_result",
          "data": {
            "text/plain": [
              "SVC(kernel='linear')"
            ]
          },
          "metadata": {},
          "execution_count": 26
        }
      ]
    },
    {
      "cell_type": "code",
      "source": [
        "\n",
        "X_train_prediction=model.predict(X_train)\n",
        "training_data_acuracy=accuracy_score(X_train_prediction,Y_train)"
      ],
      "metadata": {
        "id": "6rxQQR-QD6b5"
      },
      "execution_count": 27,
      "outputs": []
    },
    {
      "cell_type": "code",
      "source": [
        "print(training_data_acuracy)"
      ],
      "metadata": {
        "colab": {
          "base_uri": "https://localhost:8080/"
        },
        "id": "4MFbJmUUERHv",
        "outputId": "292843a3-517f-435f-bc0c-2deade52929a"
      },
      "execution_count": 28,
      "outputs": [
        {
          "output_type": "stream",
          "name": "stdout",
          "text": [
            "0.9912087912087912\n"
          ]
        }
      ]
    },
    {
      "cell_type": "code",
      "source": [
        "X_test_prediction=model.predict(X_test)\n",
        "test_data_acuracy=accuracy_score(X_test_prediction,Y_test)"
      ],
      "metadata": {
        "id": "eJItlZtwEUwJ"
      },
      "execution_count": 29,
      "outputs": []
    },
    {
      "cell_type": "code",
      "source": [
        "print(test_data_acuracy)"
      ],
      "metadata": {
        "colab": {
          "base_uri": "https://localhost:8080/"
        },
        "id": "LsL5HV6REYbQ",
        "outputId": "e0c5b45d-21a0-4300-e665-28d8dfc83a1a"
      },
      "execution_count": 30,
      "outputs": [
        {
          "output_type": "stream",
          "name": "stdout",
          "text": [
            "0.9385964912280702\n"
          ]
        }
      ]
    },
    {
      "cell_type": "code",
      "source": [
        "input_data=(17.99,10.38,122.8,1001,0.1184,0.2776,0.3001,0.1471,0.2419,0.07871,1.095,0.9053,8.589,153.4,0.006399,0.04904,0.05373,0.01587,0.03003,0.006193,25.38,17.33,184.6,2019,0.1622,0.6656,0.7119,0.2654,0.4601,0.1189)\n",
        "input_data_as_numpy=np.asarray(input_data)\n",
        "input_data_reshaped=input_data_as_numpy.reshape(1,-1)\n",
        "prediction=model.predict(input_data_reshaped)\n",
        "print(prediction)"
      ],
      "metadata": {
        "colab": {
          "base_uri": "https://localhost:8080/"
        },
        "id": "UW9ulWcnEbXU",
        "outputId": "e4138791-c256-4b8d-ee44-077b8b846a1e"
      },
      "execution_count": null,
      "outputs": [
        {
          "output_type": "stream",
          "name": "stdout",
          "text": [
            "['M']\n"
          ]
        }
      ]
    },
    {
      "cell_type": "code",
      "source": [],
      "metadata": {
        "id": "TvKVQSr8EkLL"
      },
      "execution_count": null,
      "outputs": []
    }
  ]
}