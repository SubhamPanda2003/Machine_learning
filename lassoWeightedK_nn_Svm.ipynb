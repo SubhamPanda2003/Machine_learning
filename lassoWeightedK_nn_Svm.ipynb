{
  "nbformat": 4,
  "nbformat_minor": 0,
  "metadata": {
    "colab": {
      "provenance": []
    },
    "kernelspec": {
      "name": "python3",
      "display_name": "Python 3"
    },
    "language_info": {
      "name": "python"
    }
  },
  "cells": [
    {
      "cell_type": "code",
      "execution_count": null,
      "metadata": {
        "id": "cyT4BQ-QPXAF"
      },
      "outputs": [],
      "source": []
    },
    {
      "cell_type": "markdown",
      "source": [
        "#lasso weighted svm"
      ],
      "metadata": {
        "id": "2uN3-WE7PX7_"
      }
    },
    {
      "cell_type": "code",
      "source": [
        "import numpy as np\n",
        "import pandas as pd\n",
        "from sklearn.model_selection import train_test_split\n",
        "from sklearn.preprocessing import StandardScaler\n",
        "from sklearn import svm\n",
        "from sklearn.metrics import accuracy_score\n",
        "import numpy as np\n",
        "import pandas as pd\n",
        "import matplotlib.pyplot as plt\n",
        "import seaborn as sns\n",
        "from sklearn.model_selection import train_test_split\n",
        "from sklearn.linear_model import LinearRegression\n",
        "from sklearn.linear_model import Lasso\n",
        "from sklearn import metrics\n"
      ],
      "metadata": {
        "id": "PxFfqrElPbtN"
      },
      "execution_count": 1,
      "outputs": []
    },
    {
      "cell_type": "code",
      "source": [
        "# Random state\n",
        "r=55"
      ],
      "metadata": {
        "id": "cJXAO68JP4T3"
      },
      "execution_count": 2,
      "outputs": []
    },
    {
      "cell_type": "code",
      "source": [
        "data=pd.read_csv('/content/parkinsons.csv', header=None)\n",
        "data.sample(frac=1)\n",
        "data=data.drop(0)\n",
        "X=data.drop(columns=[0,17],axis=1)\n",
        "\n",
        "Y=data[17]\n",
        "#--------------------------------main wt part---------------------------------------\n",
        "Y.replace('1', '1', inplace = True)\n",
        "print(X)\n",
        "print(\"---------------------------------------\")\n",
        "print(Y)"
      ],
      "metadata": {
        "colab": {
          "base_uri": "https://localhost:8080/"
        },
        "id": "4CT5JagfQGR7",
        "outputId": "e753be05-1a1f-434a-9d14-b15dce121f50"
      },
      "execution_count": 3,
      "outputs": [
        {
          "output_type": "stream",
          "name": "stdout",
          "text": [
            "            1          2          3        4        5        6        7   \\\n",
            "1    119.99200  157.30200   74.99700  0.00784  0.00007  0.00370  0.00554   \n",
            "2    122.40000  148.65000  113.81900  0.00968  0.00008  0.00465  0.00696   \n",
            "3    116.68200  131.11100  111.55500  0.01050  0.00009  0.00544  0.00781   \n",
            "4    116.67600  137.87100  111.36600  0.00997  0.00009  0.00502  0.00698   \n",
            "5    116.01400  141.78100  110.65500  0.01284  0.00011  0.00655  0.00908   \n",
            "..         ...        ...        ...      ...      ...      ...      ...   \n",
            "191  174.18800  230.97800   94.26100  0.00459  0.00003  0.00263  0.00259   \n",
            "192  209.51600  253.01700   89.48800  0.00564  0.00003  0.00331  0.00292   \n",
            "193  174.68800  240.00500   74.28700  0.01360  0.00008  0.00624  0.00564   \n",
            "194  198.76400  396.96100   74.90400  0.00740  0.00004  0.00370  0.00390   \n",
            "195  214.28900  260.27700   77.97300  0.00567  0.00003  0.00295  0.00317   \n",
            "\n",
            "          8        9        10  ...       13       14       15        16  \\\n",
            "1    0.01109  0.04374  0.42600  ...  0.02971  0.06545  0.02211  21.03300   \n",
            "2    0.01394  0.06134  0.62600  ...  0.04368  0.09403  0.01929  19.08500   \n",
            "3    0.01633  0.05233  0.48200  ...  0.03590  0.08270  0.01309  20.65100   \n",
            "4    0.01505  0.05492  0.51700  ...  0.03772  0.08771  0.01353  20.64400   \n",
            "5    0.01966  0.06425  0.58400  ...  0.04465  0.10470  0.01767  19.64900   \n",
            "..       ...      ...      ...  ...      ...      ...      ...       ...   \n",
            "191  0.00790  0.04087  0.40500  ...  0.02745  0.07008  0.02764  19.51700   \n",
            "192  0.00994  0.02751  0.26300  ...  0.01879  0.04812  0.01810  19.14700   \n",
            "193  0.01873  0.02308  0.25600  ...  0.01667  0.03804  0.10715  17.88300   \n",
            "194  0.01109  0.02296  0.24100  ...  0.01588  0.03794  0.07223  19.02000   \n",
            "195  0.00885  0.01884  0.19000  ...  0.01373  0.03078  0.04398  21.20900   \n",
            "\n",
            "           18        19         20        21        22        23  \n",
            "1    0.414783  0.815285  -4.813031  0.266482  2.301442  0.284654  \n",
            "2    0.458359  0.819521  -4.075192  0.335590  2.486855  0.368674  \n",
            "3    0.429895  0.825288  -4.443179  0.311173  2.342259  0.332634  \n",
            "4    0.434969  0.819235  -4.117501  0.334147  2.405554  0.368975  \n",
            "5    0.417356  0.823484  -3.747787  0.234513  2.332180  0.410335  \n",
            "..        ...       ...        ...       ...       ...       ...  \n",
            "191  0.448439  0.657899  -6.538586  0.121952  2.657476  0.133050  \n",
            "192  0.431674  0.683244  -6.195325  0.129303  2.784312  0.168895  \n",
            "193  0.407567  0.655683  -6.787197  0.158453  2.679772  0.131728  \n",
            "194  0.451221  0.643956  -6.744577  0.207454  2.138608  0.123306  \n",
            "195  0.462803  0.664357  -5.724056  0.190667  2.555477  0.148569  \n",
            "\n",
            "[195 rows x 22 columns]\n",
            "---------------------------------------\n",
            "1      1\n",
            "2      1\n",
            "3      1\n",
            "4      1\n",
            "5      1\n",
            "      ..\n",
            "191    0\n",
            "192    0\n",
            "193    0\n",
            "194    0\n",
            "195    0\n",
            "Name: 17, Length: 195, dtype: object\n"
          ]
        }
      ]
    },
    {
      "cell_type": "code",
      "source": [
        "\n",
        "#splitting the model into training and test data division is done in random way depending on random state\n"
      ],
      "metadata": {
        "id": "rLiv9fFjQScS"
      },
      "execution_count": 4,
      "outputs": []
    },
    {
      "cell_type": "code",
      "source": [
        "scaler=StandardScaler()\n",
        "scaler.fit(X)\n",
        "X_train=scaler.transform(X)\n",
        "# X_test=scaler.transform(X_test)\n",
        "X_train,X_test,Y_train,Y_test=train_test_split(X,Y,test_size=0.2,stratify=Y,random_state=r)"
      ],
      "metadata": {
        "id": "RxGV9Q2cQWqw"
      },
      "execution_count": 5,
      "outputs": []
    },
    {
      "cell_type": "code",
      "source": [
        "model=Lasso()\n",
        "model.fit(X_train,Y_train)"
      ],
      "metadata": {
        "colab": {
          "base_uri": "https://localhost:8080/"
        },
        "id": "OH3-np_yQeM_",
        "outputId": "e270ffa6-1535-4c86-d32e-d13a0b3b3269"
      },
      "execution_count": 6,
      "outputs": [
        {
          "output_type": "execute_result",
          "data": {
            "text/plain": [
              "Lasso()"
            ]
          },
          "metadata": {},
          "execution_count": 6
        }
      ]
    },
    {
      "cell_type": "code",
      "source": [
        "X_train_prediction=model.predict(X)"
      ],
      "metadata": {
        "id": "V0b3Ab1qQoCC"
      },
      "execution_count": 7,
      "outputs": []
    },
    {
      "cell_type": "code",
      "source": [
        "\n",
        "print(X_train_prediction)\n",
        "data[23]=X_train_prediction\n",
        "\n",
        "\n",
        "# print(X_test)"
      ],
      "metadata": {
        "colab": {
          "base_uri": "https://localhost:8080/"
        },
        "id": "HWIJ5y_dRI8P",
        "outputId": "708e5349-318f-442d-afba-1b995bb0e477"
      },
      "execution_count": 8,
      "outputs": [
        {
          "output_type": "stream",
          "name": "stdout",
          "text": [
            "[0.93266702 0.84066501 0.85960879 0.86004276 0.86323197 0.84523492\n",
            " 0.84363669 0.89843552 0.95455113 0.95736351 0.98960406 0.97598473\n",
            " 0.76656756 0.8825122  0.85082564 0.86057239 0.85652876 0.81255416\n",
            " 0.8663408  0.69352772 0.87069208 0.84322038 0.80693031 0.77657473\n",
            " 0.82241418 0.96403316 0.80727126 0.85233911 0.83534652 0.82317465\n",
            " 0.4852751  0.47995623 0.47976568 0.46149273 0.46129699 0.46648721\n",
            " 0.58536234 0.59938717 0.56319467 0.5502671  0.54395134 0.57261844\n",
            " 0.31392762 0.28765649 0.28280884 0.2942759  0.2790695  0.37102279\n",
            " 0.83686326 0.83739042 0.82753006 0.83338435 0.80869969 0.81316235\n",
            " 0.89804202 0.89201047 0.89302197 0.8607259  0.86667769 0.87933057\n",
            " 0.63934065 0.62849487 0.39420253 0.33789721 0.34201028 0.5825968\n",
            " 0.90082537 0.91129098 0.89574377 0.88124617 0.89843996 0.91334203\n",
            " 0.85210638 0.88102647 0.88335107 0.88868373 0.87902337 0.88499715\n",
            " 0.95869709 0.95605816 0.96970904 0.96418566 0.93322305 0.95583197\n",
            " 0.79345829 0.60558604 0.64435324 0.68333078 0.8021443  0.63222794\n",
            " 0.81245471 0.69458936 0.71448775 0.85089214 0.85520877 0.67594061\n",
            " 0.68251459 0.82899353 0.87149013 0.86182693 0.82716788 0.91066484\n",
            " 0.90546176 0.8582042  0.73088507 0.73032204 0.69381609 0.72466107\n",
            " 0.72638909 0.74309806 0.70355888 0.44196319 0.47220297 0.46855015\n",
            " 0.6847154  0.86817377 0.84636963 0.80013037 0.77507591 0.65410538\n",
            " 0.88147485 0.77442132 0.86985268 0.7723694  0.83372318 0.85884784\n",
            " 0.87490137 0.80848187 0.85908007 0.86440584 0.87600259 0.86595615\n",
            " 0.90876782 0.85839578 0.92529524 0.88808838 0.87589497 0.89231381\n",
            " 0.8869777  0.86476471 0.79994111 0.68092418 0.57812842 0.70613227\n",
            " 0.53384018 0.65296953 0.64183487 0.58642849 0.56371282 0.50458133\n",
            " 0.60509879 0.54725574 0.52174379 0.8777785  0.9041387  0.8919984\n",
            " 0.88303424 0.88044926 0.86766418 0.83085458 0.94218183 0.87124698\n",
            " 0.91012912 0.90176771 0.95160702 0.58954236 0.30475177 0.23143458\n",
            " 0.70875682 0.31852098 0.26408908 0.88263336 0.89940714 0.89932012\n",
            " 0.88463443 0.8692597  0.86606022 0.73365466 0.72056883 0.73090614\n",
            " 0.7038025  0.71469307 0.7052058  0.86915453 0.88594612 0.89290577\n",
            " 0.91611208 0.8988424  0.9200343  0.7264018  0.75798454 0.68256997\n",
            " 0.80108641 0.74110499 0.69650016]\n"
          ]
        }
      ]
    },
    {
      "cell_type": "code",
      "source": [
        "\n",
        "# Example of making predictions\n",
        "from multiprocessing import Process, Queue\n",
        "import logging\n",
        "import difflib, random, time\n",
        "import math\n",
        "import numpy as np\n",
        "import numpy as np\n",
        "import pandas as pd\n",
        "from sklearn.model_selection import train_test_split\n",
        "from sklearn.preprocessing import StandardScaler\n",
        "from sklearn import svm\n",
        "from sklearn.metrics import accuracy_score\n",
        "import matplotlib.pyplot as plt\n",
        "from matplotlib import style\n",
        "import pandas as pd\n",
        "import random\n",
        "from collections import Counter\n",
        "from sklearn import preprocessing\n",
        "from itertools import repeat\n",
        "import multiprocessing as mp\n",
        "import time\n",
        "from sklearn import datasets\n",
        "from sklearn.metrics import confusion_matrix\n",
        "from sklearn.model_selection import train_test_split\n",
        "from csv import writer\n",
        "#for plotting\n",
        "plt.style.use('ggplot')\n",
        "from math import sqrt\n",
        "import multiprocessing\n",
        "from threading import Thread\n",
        "\n",
        "#feature weight change acc to no of row\n",
        "feature=[1,1,1,1,1,1,1,1,1,1,1,1,1,1,1,1,1,1,1,1,1,1,2,1,1,1,1,1,1,1,1,1,1,1,1,1,1,1,1,1,1,1,1,1,1,1,1]\n",
        "# feature[23]=100\n",
        "# feature[22]=0\n",
        "# feature[2]=0\n",
        "# feature[1]=0\n",
        "# calculate the Euclidean distance between two vectors\n",
        "def euclidean_distance(row1, row2):\n",
        "\tdistance = 0.0\n",
        "\tfor i in range(len(row1)-1):\n",
        "\t\tdistance += feature[i]*(row1[i] - row2[i])**2\n",
        "\treturn sqrt(distance)\n",
        "\n",
        "# Locate the most similar neighbors\n",
        "def get_neighbors(train, test_row, num_neighbors):\n",
        "  distances = list()\n",
        "  for train_row in train:\n",
        "    dist = euclidean_distance(test_row, train_row)\n",
        "    distances.append((train_row, dist))\n",
        "  distances.sort(key=lambda tup: tup[1])\n",
        "  neighbors = list()\n",
        "  for i in range(num_neighbors):\n",
        "    neighbors.append(distances[i][0])\n",
        "  \n",
        "  with open('event.csv', 'w') as f_object:\n",
        "    writer_object = writer(f_object)\n",
        " \n",
        "    # Pass the list as an argument into\n",
        "    # the writerow()\n",
        "    for list1 in neighbors:\n",
        "      writer_object.writerow(list1)\n",
        "\t\n",
        "    # Close the file object\n",
        "      # f_object.close()\n",
        "    return neighbors\n",
        "\n",
        "# Make a classification prediction with neighbors\n",
        "def predict_classification(train, test, num_neighbors,dataset):\n",
        "\t\n",
        "\t\tneighbors = get_neighbors(train, test, num_neighbors)\n",
        "\t\t# output_values = [row[-1] for row in neighbors]\n",
        "\t\t# print(test)\n",
        "\t\tdata=pd.DataFrame(neighbors)\n",
        "\t\tX=data.drop(columns=16,axis=1)\n",
        "\t\tY=data[16]\n",
        "\t\ttt=Y[0]\n",
        "\t\tprediction =tt\n",
        "\t\tu=5\n",
        "\t\tfor i in Y:\n",
        "\t\t\t\tif(i!=tt):\n",
        "\t\t\t\t\t\tu=9\n",
        "\t\tif(u==9):\n",
        "\n",
        "\t\t\t\tscaler=StandardScaler()\n",
        "\t\t\t\tscaler.fit(X)\n",
        "\t\t\t\tX=scaler.transform(X)\n",
        "      # X_test=scaler.transform(X_test)\n",
        "\t\t\t\tmodel=svm.SVC(kernel='linear')\n",
        "\t\t\t\tmodel.fit(X,Y)\n",
        "\n",
        "\t\t\t\t# print(test[22])\n",
        "\t\t\t\tinput_data=(test[0:16]+test[17:])\n",
        "\t\t\t\tinput_data_as_numpy=np.asarray(input_data)\n",
        "\t\t\t\tinput_data_reshaped=input_data_as_numpy.reshape(1,-1)\n",
        "\t\t\t\tinput_data1=scaler.transform(input_data_reshaped)\n",
        "\t\t\t\tprediction=model.predict(input_data1)\n",
        "\n",
        "  # print(prediction,\" but expected \",test[0])\n",
        "\t\tif(math.floor(test[16])==math.floor(prediction)):\n",
        "\t\t\t\treturn 1\n",
        "\n",
        "\n",
        "\t\treturn 0\n",
        "\t\n",
        " \n",
        "\n",
        " \n",
        "def main():\n",
        "\t# Test distance function\n",
        "\t# df = pd.read_csv(r\"./letter.csv\")\n",
        "\t# # df=df.drop(columns=0,axis=1)\n",
        "\tX1=data.drop(columns=[0],axis=1)\n",
        "  # Y1=data['status']\n",
        "\tX_train,X_test,Y_train,Y_test=train_test_split(X1,Y,test_size=0.2,stratify=Y,random_state=r)\n",
        "\tdataset = X_train.astype(float).values.tolist()\n",
        "\n",
        "\tX_test1 =X_test.astype(float).values.tolist()\n",
        "\tprint(data[17])\n",
        "\n",
        "\tp=[]\n",
        "\ts=[]\n",
        "\te=[]\n",
        "\ttotal=0\n",
        "\tprocess=1   #--------------------------------------------------------------------------------------------process----------------------------------------------------\n",
        "\tfor i in X_test1:\n",
        "\t\t# print(i)\n",
        "\t\tp.append(predict_classification(dataset, i, 20,dataset))\n",
        "\n",
        "\t# for i in range(process):\n",
        "\t# \ts.append(time.perf_counter())\n",
        "\t# \tp[i].start()\n",
        "\t# for i in range(process):\n",
        "\t# \tp[i].join()\n",
        "\t# \te.append(time.perf_counter())\n",
        "\t# for i in range(process):\n",
        "\t# \ttotal=total+(e[i]-s[i])\n",
        "        \n",
        "\n",
        "\tresult=0\n",
        "\n",
        "\tfor i in range(39):\n",
        "\t\tresult+=p[i]\n",
        "\tresult=result/39;\n",
        "\tprint(result)\n",
        "\t# print(\"parallel Exec Time: \", e[process-1]-s[0])\n",
        "\t# print(\"total seq Exec Time: \", total)\n",
        "\t# print('Expected --%d' % (dataset[0][-1]))\n",
        "if __name__ == \"__main__\":\n",
        "\tmain()\n",
        "\n"
      ],
      "metadata": {
        "colab": {
          "base_uri": "https://localhost:8080/"
        },
        "id": "Y4A7f23FRNY_",
        "outputId": "43a3aded-c8be-4107-98f0-451c7d991324"
      },
      "execution_count": 9,
      "outputs": [
        {
          "output_type": "stream",
          "name": "stdout",
          "text": [
            "1      1\n",
            "2      1\n",
            "3      1\n",
            "4      1\n",
            "5      1\n",
            "      ..\n",
            "191    0\n",
            "192    0\n",
            "193    0\n",
            "194    0\n",
            "195    0\n",
            "Name: 17, Length: 195, dtype: object\n",
            "0.8205128205128205\n"
          ]
        }
      ]
    },
    {
      "cell_type": "code",
      "source": [],
      "metadata": {
        "id": "zR69EoKd3x2R"
      },
      "execution_count": 9,
      "outputs": []
    }
  ]
}