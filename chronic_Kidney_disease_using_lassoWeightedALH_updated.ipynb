{
  "nbformat": 4,
  "nbformat_minor": 0,
  "metadata": {
    "colab": {
      "provenance": []
    },
    "kernelspec": {
      "name": "python3",
      "display_name": "Python 3"
    },
    "language_info": {
      "name": "python"
    }
  },
  "cells": [
    {
      "cell_type": "code",
      "execution_count": 169,
      "metadata": {
        "id": "dnUdu6u0CWky"
      },
      "outputs": [],
      "source": [
        "import numpy as np\n",
        "import pandas as pd\n",
        "from sklearn.model_selection import train_test_split\n",
        "from sklearn.preprocessing import StandardScaler\n",
        "from sklearn import svm\n",
        "from sklearn.metrics import accuracy_score\n",
        "import numpy as np\n",
        "import pandas as pd\n",
        "import matplotlib.pyplot as plt\n",
        "import seaborn as sns\n",
        "from sklearn.model_selection import train_test_split\n",
        "from sklearn.linear_model import LinearRegression\n",
        "from sklearn.linear_model import Lasso\n",
        "from sklearn import metrics\n"
      ]
    },
    {
      "cell_type": "code",
      "source": [
        "# Random state\n",
        "r=70"
      ],
      "metadata": {
        "id": "5XxqXIj3CamM"
      },
      "execution_count": 170,
      "outputs": []
    },
    {
      "cell_type": "code",
      "source": [],
      "metadata": {
        "id": "bDb67V87szUv"
      },
      "execution_count": 170,
      "outputs": []
    },
    {
      "cell_type": "code",
      "source": [
        "data=pd.read_csv('/content/chronic_kidney_disease.csv', header=None)\n",
        "# data.sample(frac=1)\n",
        "data=data.drop(0)\n",
        "data.replace('?', 0, inplace = True)\n",
        "\t\n",
        "data.replace('yes', 1, inplace = True)\n",
        "data.replace('no', 0, inplace = True)\n",
        "\n",
        "data.replace('notpresent', 1, inplace = True)\n",
        "data.replace('present', 0, inplace = True)\n",
        "\t\n",
        "data.replace('abnormal', 1, inplace = True)\n",
        "data.replace('normal', 0, inplace = True)\n",
        "\t\n",
        "data.replace('poor', 1, inplace = True)\n",
        "data.replace('good', 0, inplace = True)\n",
        "\t\n",
        "data.replace('ckd', 1, inplace = True)\n",
        "data.replace('notckd', 0, inplace = True)\n",
        "X=data.drop(columns=[24],axis=1)\n",
        "\n",
        "Y=data[24]\n",
        "#--------------------------------main wt part---------------------------------------\n",
        "Y.replace(1, 1, inplace = True)\n",
        "print(X)\n",
        "print(\"---------------------------------------\")\n",
        "print(Y)"
      ],
      "metadata": {
        "colab": {
          "base_uri": "https://localhost:8080/"
        },
        "id": "s5J24oQ3Cbns",
        "outputId": "9beb7509-a136-4fad-a77a-b1c2db7829f5"
      },
      "execution_count": 171,
      "outputs": [
        {
          "output_type": "stream",
          "name": "stdout",
          "text": [
            "     0   1      2  3  4   5   6   7   8    9   ...    14  15    16   17 18 19  \\\n",
            "1    48  80  1.020  1  0   0   0   1   1  121  ...  15.4  44  7800  5.2  1  1   \n",
            "2     7  50  1.020  4  0   0   0   1   1    0  ...  11.3  38  6000    0  0  0   \n",
            "3    62  80  1.010  2  3   0   0   1   1  423  ...   9.6  31  7500    0  0  1   \n",
            "4    48  70  1.005  4  0   0   1   0   1  117  ...  11.2  32  6700  3.9  1  0   \n",
            "5    51  80  1.010  2  0   0   0   1   1  106  ...  11.6  35  7300  4.6  0  0   \n",
            "..   ..  ..    ... .. ..  ..  ..  ..  ..  ...  ...   ...  ..   ...  ... .. ..   \n",
            "396  55  80  1.020  0  0   0   0   1   1  140  ...  15.7  47  6700  4.9  0  0   \n",
            "397  42  70  1.025  0  0   0   0   1   1   75  ...  16.5  54  7800  6.2  0  0   \n",
            "398  12  80  1.020  0  0   0   0   1   1  100  ...  15.8  49  6600  5.4  0  0   \n",
            "399  17  60  1.025  0  0   0   0   1   1  114  ...  14.2  51  7200  5.9  0  0   \n",
            "400  58  80  1.025  0  0   0   0   1   1  131  ...  15.8  53  6800  6.1  0  0   \n",
            "\n",
            "    20 21  22  23  \n",
            "1    0  0   0   0  \n",
            "2    0  0   0   0  \n",
            "3    0  1   0   1  \n",
            "4    0  1   1   1  \n",
            "5    0  0   0   0  \n",
            "..  .. ..  ..  ..  \n",
            "396  0  0   0   0  \n",
            "397  0  0   0   0  \n",
            "398  0  0   0   0  \n",
            "399  0  0   0   0  \n",
            "400  0  0   0   0  \n",
            "\n",
            "[400 rows x 24 columns]\n",
            "---------------------------------------\n",
            "1      1\n",
            "2      1\n",
            "3      1\n",
            "4      1\n",
            "5      1\n",
            "      ..\n",
            "396    0\n",
            "397    0\n",
            "398    0\n",
            "399    0\n",
            "400    0\n",
            "Name: 24, Length: 400, dtype: int64\n"
          ]
        }
      ]
    },
    {
      "cell_type": "code",
      "source": [
        "scaler=StandardScaler()\n",
        "scaler.fit(X)\n",
        "X_train=scaler.transform(X)\n",
        "# X_test=scaler.transform(X_test)\n",
        "X_train,X_test,Y_train,Y_test=train_test_split(X,Y,test_size=0.2,stratify=Y,random_state=r)"
      ],
      "metadata": {
        "id": "H1mycqxICeOJ"
      },
      "execution_count": 172,
      "outputs": []
    },
    {
      "cell_type": "code",
      "source": [
        "model=Lasso()\n",
        "model.fit(X_train,Y_train)"
      ],
      "metadata": {
        "colab": {
          "base_uri": "https://localhost:8080/"
        },
        "id": "11lgyIXAChJ9",
        "outputId": "9ff7e4cb-73d8-45d4-c20c-5d680b649e82"
      },
      "execution_count": 173,
      "outputs": [
        {
          "output_type": "execute_result",
          "data": {
            "text/plain": [
              "Lasso()"
            ]
          },
          "metadata": {},
          "execution_count": 173
        }
      ]
    },
    {
      "cell_type": "code",
      "source": [
        "X_train_prediction=model.predict(X)"
      ],
      "metadata": {
        "id": "BuPc61xQCk3n"
      },
      "execution_count": 174,
      "outputs": []
    },
    {
      "cell_type": "code",
      "source": [
        "\n",
        "print(X_train_prediction)\n",
        "c=0\n",
        "for i in  X_train_prediction:\n",
        "  X_train_prediction[c]=i*0  #---------------------------------------------------------------------------------------------------\n",
        "  c+=1\n",
        "data[25]=X_train_prediction\n",
        "\n",
        "\n",
        "# print(X_test)"
      ],
      "metadata": {
        "colab": {
          "base_uri": "https://localhost:8080/"
        },
        "id": "6MiwnCIyCoZu",
        "outputId": "66f6a329-5edf-4edb-a65f-a443b79e6193"
      },
      "execution_count": 175,
      "outputs": [
        {
          "output_type": "stream",
          "name": "stdout",
          "text": [
            "[0.75945835 0.63765788 1.26190164 0.60329496 0.80444722 0.33793762\n",
            " 0.55862294 1.07880625 0.93333279 0.68062202 1.36732379 0.85652211\n",
            " 0.70691402 0.87433978 0.82018934 0.77349888 0.78174865 0.88376255\n",
            " 0.59779988 0.85389195 0.8734279  1.02737308 0.73808313 0.95003969\n",
            " 0.34275295 0.57971963 0.51827633 0.74011238 1.15692121 0.65633183\n",
            " 1.02432917 0.47925071 0.53713849 0.95783678 1.47251231 1.01156153\n",
            " 0.45345691 0.60013794 0.80687296 0.51767106 0.94055922 0.99277884\n",
            " 0.55983267 0.88351384 0.72198261 1.02028289 0.41094823 0.57156275\n",
            " 0.49313246 1.00844284 0.65134329 0.59500103 0.71684829 0.91426696\n",
            " 0.20801072 0.68953456 0.66594358 1.02432917 0.85918806 1.15518762\n",
            " 0.87250979 1.54509785 0.3970745  0.74702643 1.11697328 0.54619863\n",
            " 0.87855818 1.4359765  0.88985732 0.79792876 0.61958898 0.69102308\n",
            " 1.02483321 0.83549475 0.69873543 0.60444522 0.70372339 0.47906695\n",
            " 0.64518061 0.8893814  0.66016912 0.83821688 0.84820709 0.76707373\n",
            " 0.8599058  1.04833974 1.50361013 0.94859367 1.35408043 0.76051298\n",
            " 0.58368635 0.39324955 0.70513718 0.81840553 0.49079075 0.75042013\n",
            " 0.88014866 0.50616704 0.75564727 0.66646855 0.80596458 0.53685925\n",
            " 0.25492102 1.34293412 1.30159541 0.37967061 0.799205   0.7101271\n",
            " 0.37673744 1.32350898 0.42927768 0.79197583 0.71567235 0.95444255\n",
            " 1.06365202 0.60302522 1.10314261 0.55499663 1.11665832 1.16781085\n",
            " 1.02779626 0.33283197 1.06026419 0.63008487 1.00433167 1.01861014\n",
            " 0.66696968 0.65899419 0.98312651 0.86387519 0.97474262 0.67409943\n",
            " 0.98490324 0.63733163 0.40730502 0.4978738  0.93709055 0.80579099\n",
            " 0.77685163 0.42505555 0.93742939 0.62567241 0.98441295 1.17121808\n",
            " 0.50676522 1.06997594 0.86019195 0.77272965 1.20111869 0.87322124\n",
            " 0.71847743 0.57784659 0.46738233 1.20297107 0.88162869 0.84333024\n",
            " 1.28738572 0.44570553 0.88571734 0.71479056 0.4766387  0.56386457\n",
            " 0.57314583 0.58560671 0.45670733 0.95003969 0.78144975 0.75980252\n",
            " 1.00105608 1.0956952  0.88551395 0.64224688 0.87647434 0.20292712\n",
            " 0.67914109 1.06330853 0.60543547 1.09862798 0.68886596 0.84223123\n",
            " 1.07675528 0.55012383 0.43805126 0.92050908 0.99343685 0.41627097\n",
            " 0.67681017 0.68625114 0.43821261 0.70377816 0.55755426 0.71501987\n",
            " 1.13287051 0.97720901 1.05475061 0.99133998 0.88044535 0.84791706\n",
            " 0.67936434 0.52122156 0.57317924 0.70770317 0.64370028 0.96688204\n",
            " 0.63446503 0.72415113 0.52683261 0.94308362 1.04064599 0.95313966\n",
            " 0.97047837 1.10627314 0.91212249 0.66068431 0.81180651 0.95003969\n",
            " 0.75089312 0.45131799 0.78265016 1.08705993 0.73682633 0.91792105\n",
            " 1.21883793 0.63690176 0.76386426 1.03254578 0.62798845 0.85811893\n",
            " 1.2029407  1.03865443 0.85239592 0.66117675 0.95003969 0.6973109\n",
            " 0.5831187  1.038642   0.56881356 0.85667795 1.08484787 0.43591903\n",
            " 0.94775722 0.56304122 0.81428408 0.43372473 0.87691336 0.6915614\n",
            " 0.96078416 0.77472211 0.83292365 1.38903008 0.3180452  0.2148038\n",
            " 0.32006907 0.36292849 0.32075418 0.27012646 0.34274305 0.3356039\n",
            " 0.3139489  0.34693031 0.36202673 0.39643891 0.35506759 0.39027635\n",
            " 0.30402163 0.29175242 0.38850914 0.31593725 0.29451857 0.29471664\n",
            " 0.37234204 0.33021572 0.38125263 0.74816445 0.32412426 0.35948762\n",
            " 0.19357376 0.35508868 0.37618835 0.32999865 0.25043935 0.42360707\n",
            " 0.40627787 0.55483037 0.27186601 0.3475173  0.27710614 0.36173681\n",
            " 0.29660107 0.33433898 0.21494773 0.42224607 0.27980227 0.23855363\n",
            " 0.44270865 0.25097663 0.41025322 0.32122083 0.3445522  0.30615912\n",
            " 0.35197584 0.34755023 0.34364468 0.66576472 0.39018377 0.38580472\n",
            " 0.29334786 0.32438453 0.32594376 0.3999108  0.32914509 0.31957734\n",
            " 0.13476031 0.25788082 0.42184155 0.50696379 0.31147968 0.41818955\n",
            " 0.2915331  0.76835102 0.35730217 0.31944411 0.38939403 0.35407713\n",
            " 0.70534572 0.32375811 0.36232515 0.33612243 0.34793883 0.25005583\n",
            " 0.38648047 0.35250352 0.2031008  0.34469952 0.32113511 0.37510493\n",
            " 0.77578297 0.27224132 0.36181446 0.32269245 0.33850414 0.38676172\n",
            " 0.31544679 0.31750216 0.32900667 0.33241862 0.31638908 0.33382384\n",
            " 0.29319663 0.22834466 0.30342369 0.39941096 0.34362788 0.24274152\n",
            " 0.32003949 0.22993273 0.30046813 0.33546711 0.33470977 0.26254729\n",
            " 0.38445077 0.1845052  0.32858187 0.74199819 0.3874603  0.76043106\n",
            " 0.26341053 0.33586208 0.31730097 0.35531197 0.29114515 0.27659315\n",
            " 0.23834056 0.35937648 0.40062272 0.2864967  0.19128347 0.26658656\n",
            " 0.17745146 0.29283903 0.2463714  0.3804653  0.23397674 0.34276736\n",
            " 0.34080484 0.25066223 0.3765201  0.25601849 0.269569   0.31482189\n",
            " 0.26416392 0.28386488 0.37512135 0.29285819 0.40804417 0.36774693\n",
            " 0.2150985  0.28998616 0.34444667 0.26020186]\n"
          ]
        }
      ]
    },
    {
      "cell_type": "code",
      "source": [
        "\n",
        "# Example of making predictions\n",
        "from multiprocessing import Process, Queue\n",
        "import logging\n",
        "import difflib, random, time\n",
        "import math\n",
        "import numpy as np\n",
        "import numpy as np\n",
        "import pandas as pd\n",
        "from sklearn.model_selection import train_test_split\n",
        "from sklearn.preprocessing import StandardScaler\n",
        "from sklearn import svm\n",
        "from sklearn.metrics import accuracy_score\n",
        "import matplotlib.pyplot as plt\n",
        "from matplotlib import style\n",
        "import pandas as pd\n",
        "import random\n",
        "from collections import Counter\n",
        "from sklearn import preprocessing\n",
        "from itertools import repeat\n",
        "import multiprocessing as mp\n",
        "import time\n",
        "from sklearn import datasets\n",
        "from sklearn.metrics import confusion_matrix\n",
        "from sklearn.model_selection import train_test_split\n",
        "from csv import writer\n",
        "#for plotting\n",
        "plt.style.use('ggplot')\n",
        "from math import sqrt\n",
        "import multiprocessing\n",
        "from threading import Thread\n",
        "\n",
        "#feature weight change acc to no of row\n",
        "feature=[1,1,1,1,1,1,1,1,1,1,1,1,1,1,1,1,1,1,1,1,1,1,1,1,1,1,1,1,1,1,1,1,1,1,1,1,1,1,1,1,1,1,1,1,1,1,1]\n",
        "# feature[23]=100\n",
        "# feature[22]=0\n",
        "# feature[2]=0\n",
        "# feature[1]=0\n",
        "# calculate the Euclidean distance between two vectors\n",
        "def euclidean_distance(row1, row2):\n",
        "\tdistance = 0.0\n",
        "\tfor i in range(len(row1)-1):\n",
        "\t\tdistance += feature[i]*(row1[i] - row2[i])**2\n",
        "\treturn sqrt(distance)\n",
        "\n",
        "# Locate the most similar neighbors\n",
        "def get_neighbors(train, test_row, num_neighbors):\n",
        "  distances = list()\n",
        "  for train_row in train:\n",
        "    dist = euclidean_distance(test_row, train_row)\n",
        "    distances.append((train_row, dist))\n",
        "  distances.sort(key=lambda tup: tup[1])\n",
        "  neighbors = list()\n",
        "  for i in range(num_neighbors):\n",
        "    neighbors.append(distances[i][0])\n",
        "  \n",
        "  with open('event.csv', 'w') as f_object:\n",
        "    writer_object = writer(f_object)\n",
        " \n",
        "    # Pass the list as an argument into\n",
        "    # the writerow()\n",
        "    for list1 in neighbors:\n",
        "      writer_object.writerow(list1)\n",
        "\t\n",
        "    # Close the file object\n",
        "      # f_object.close()\n",
        "    return neighbors\n",
        "\n",
        "# Make a classification prediction with neighbors\n",
        "def predict_classification(train, test, num_neighbors,dataset):\n",
        "\t\n",
        "\t\tneighbors = get_neighbors(train, test, num_neighbors)\n",
        "\t\t# output_values = [row[-1] for row in neighbors]\n",
        "\t\t# print(test)\n",
        "\t\tdata=pd.DataFrame(neighbors)\n",
        "\t\tX=data.drop(columns=24,axis=1)\n",
        "\t\tY=data[24]\n",
        "\t\ttt=Y[0]\n",
        "\t\tprediction =tt\n",
        "\t\tu=5\n",
        "\t\tfor i in Y:\n",
        "\t\t\t\tif(i!=tt):\n",
        "\t\t\t\t\t\tu=9\n",
        "\t\tif(u==9):\n",
        "\n",
        "\t\t\t\t# scaler=StandardScaler()\n",
        "\t\t\t\t# scaler.fit(X)\n",
        "\t\t\t\t# X=scaler.transform(X)\n",
        "      # X_test=scaler.transform(X_test)\n",
        "\t\t\t\tmodel=svm.SVC(kernel='linear')\n",
        "\t\t\t\tmodel.fit(X,Y)\n",
        "\n",
        "\t\t\t\t# print(test[22])\n",
        "\t\t\t\tinput_data=(test[0:24]+test[25:])\n",
        "\t\t\t\tinput_data_as_numpy=np.asarray(input_data)\n",
        "\t\t\t\tinput_data_reshaped=input_data_as_numpy.reshape(1,-1)\n",
        "\t\t\t\t# input_data1=scaler.transform(input_data_reshaped)\n",
        "\t\t\t\tprediction=model.predict(input_data_reshaped)\n",
        "\n",
        "  # print(prediction,\" but expected \",test[0])\n",
        "\t\tif(math.floor(test[24])==math.floor(prediction)):\n",
        "\t\t\t\treturn 1\n",
        "\n",
        "\n",
        "\t\treturn 0\n",
        "\t\n",
        " \n",
        "\n",
        " \n",
        "def main():\n",
        "\t# Test distance function\n",
        "\t# df = pd.read_csv(r\"./letter.csv\")\n",
        "\t# # df=df.drop(columns=0,axis=1)\n",
        "\tX1=data\n",
        "  # Y1=data['status']\n",
        "\tX_train,X_test,Y_train,Y_test=train_test_split(X1,Y,test_size=0.2,stratify=Y,random_state=r)\n",
        "\tdataset = X_train.astype(float).values.tolist()\n",
        "\n",
        "\tX_test1 =X_test.astype(float).values.tolist()\n",
        "\tprint(data[24])\n",
        "\n",
        "\tp=[]\n",
        "\ts=[]\n",
        "\te=[]\n",
        "\ttotal=0\n",
        "\t# process=1   #--------------------------------------------------------------------------------------------process----------------------------------------------------\n",
        "\tfor i in X_test1:\n",
        "\t\t# print(i)\n",
        "\t\tp.append(predict_classification(dataset, i, 25,dataset))\n",
        "\n",
        "\t# for i in range(process):\n",
        "\t# \ts.append(time.perf_counter())\n",
        "\t# \tp[i].start()\n",
        "\t# for i in range(process):\n",
        "\t# \tp[i].join()\n",
        "\t# \te.append(time.perf_counter())\n",
        "\t# for i in range(process):\n",
        "\t# \ttotal=total+(e[i]-s[i])\n",
        "        \n",
        "\n",
        "\tresult=0\n",
        "\n",
        "\tfor i in range(80):\n",
        "\t\tresult+=p[i]\n",
        "\tresult=result/80;\n",
        "\tprint(result)\n",
        "\t# print(\"parallel Exec Time: \", e[process-1]-s[0])\n",
        "\t# print(\"total seq Exec Time: \", total)\n",
        "\t# print('Expected --%d' % (dataset[0][-1]))\n",
        "if __name__ == \"__main__\":\n",
        "\tmain()\n",
        "\n"
      ],
      "metadata": {
        "colab": {
          "base_uri": "https://localhost:8080/"
        },
        "id": "6p-nn6B9CrQR",
        "outputId": "452af6be-284a-4bf4-82ba-39024095705e"
      },
      "execution_count": 176,
      "outputs": [
        {
          "output_type": "stream",
          "name": "stdout",
          "text": [
            "1      1\n",
            "2      1\n",
            "3      1\n",
            "4      1\n",
            "5      1\n",
            "      ..\n",
            "396    0\n",
            "397    0\n",
            "398    0\n",
            "399    0\n",
            "400    0\n",
            "Name: 24, Length: 400, dtype: int64\n",
            "0.8875\n"
          ]
        }
      ]
    },
    {
      "cell_type": "code",
      "source": [],
      "metadata": {
        "id": "j9LMvD4ZEmdV"
      },
      "execution_count": 176,
      "outputs": []
    }
  ]
}